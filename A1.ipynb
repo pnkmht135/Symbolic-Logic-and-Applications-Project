{
 "cells": [
  {
   "cell_type": "code",
   "execution_count": null,
   "id": "ebc84653",
   "metadata": {},
   "outputs": [],
   "source": [
    "\n",
    "AX1=\"A → (B → A)\"\n",
    "AX2=\"(A → (B → C)) → ((A → B) → (A → C))\"\n",
    "AX3=\"(¬B → ¬A) → (A → B)\"\n",
    "\n",
    "\n",
    "from sympy.logic.boolalg import Not, Implies\n",
    "from sympy import symbols\n",
    "import re\n",
    "\n",
    "class RawImplies(Implies):\n",
    "    @classmethod\n",
    "    def eval(cls, lhs, rhs):\n",
    "        # completely disable evaluation\n",
    "        return None\n",
    "\n",
    "def remove_outer_brackets(s):\n",
    "    \"\"\"\n",
    "    Removes brackets that encapsulate entire string, if there\n",
    "    eg: (xyz)-> xyz\n",
    "    \"\"\"\n",
    "    if not s or s[0] != '(' or s[-1] != ')':\n",
    "        return s  \n",
    "    depth = 0\n",
    "    for i, char in enumerate(s):\n",
    "        if char == '(':\n",
    "            depth += 1\n",
    "        elif char == ')':\n",
    "            depth -= 1\n",
    "        if depth == 0 and i < len(s) - 1: # not fully wrapped\n",
    "            return s\n",
    "    return s[1:-1] # fully wrapped\n",
    "\n",
    "def parser(s):\n",
    "    \"\"\"\n",
    "    parse an input string of a propositional logic formula \n",
    "    to return an array containing each (ordered) component of the formula, \n",
    "    where sub-formulae within brackts are treated as one unit.\n",
    "    \"\"\"\n",
    "    if type(s) == list:\n",
    "        # Case where make sympy function calls parser() on an array of \n",
    "        # paresed elements to the right of an implication sign\n",
    "        # needed since [abc,→,¬,xyz] is correct syntax formula\n",
    "        s = \"\".join(f\"({item})\" for item in s)\n",
    "    if type(s)!=str:\n",
    "        print(\"Parsing error, wrong type entered\")\n",
    "    s=remove_outer_brackets(s)\n",
    "    s=s.replace(\" \", \"\")\n",
    "    stack = []\n",
    "    result = []\n",
    "    skip=False # for cases where ¬+atomic proposition are paresed together\n",
    "    for i, char in enumerate(s):\n",
    "        if skip:\n",
    "            skip=False\n",
    "            continue\n",
    "        if char == '(':\n",
    "            stack.append(i)\n",
    "        elif char == ')':\n",
    "            if stack:\n",
    "                start = stack.pop()\n",
    "                # Extract the content inside the current matching parentheses\n",
    "                if stack==[]:\n",
    "                    result.append(s[start + 1:i])\n",
    "        elif stack==[]:\n",
    "            if char == \"¬\" and (len(s)>2) and i!=len(s)-1 and s[i+1].isalpha():\n",
    "                # only parse ¬+atomic proposition together when the two symbols do not compose the entire formula \n",
    "                result.append(s[i:i+2])\n",
    "                skip=True\n",
    "            else:\n",
    "                result.append(char)\n",
    "    return result\n",
    "    \n",
    "def make_sympy(s:str):\n",
    "    \"\"\"\n",
    "    Recursive function to turn propositional logic formula from a string \n",
    "    to a sympy format\n",
    "    \"\"\"\n",
    "    array=parser(s)\n",
    "    answer=None\n",
    "    if len(array)==1 and isinstance(array[0], str) and len(array[0]) == 1:\n",
    "        char=array[0]\n",
    "        if not char.isalpha():\n",
    "            print(\"Error: lone floating operator\",char)\n",
    "            return\n",
    "        return symbols(char)\n",
    "    for i,item in enumerate(array):\n",
    "        if item == \"¬\":\n",
    "            # handle Not operator\n",
    "            if i==len(array)-1:\n",
    "                print(\"Error: floating ¬\")\n",
    "                return\n",
    "            answer=Not(make_sympy(array[i+1]), evaluate=False)\n",
    "            # Not operator may not end the parsing, eg: ¬(abc)→(xyz)\n",
    "        if item == \"→\":\n",
    "            if i==0 or i==len(array)-1:\n",
    "                print(\"Error floating →\")\n",
    "                return\n",
    "            if answer:\n",
    "                answer=RawImplies(answer,make_sympy(array[i+1:]), evaluate=False)\n",
    "            else:\n",
    "                answer=RawImplies(make_sympy(array[i-1]),make_sympy(array[i+1:]), evaluate=False)\n",
    "    # A correctly bracketed equation will not need further evaluation beyond the\n",
    "\t# above recursive calls, thus break the loop \n",
    "            break\n",
    "    return answer\n",
    "\n",
    "# Initialising the axioms to be used in proof evaluation\n",
    "axiom1=make_sympy(AX1)\n",
    "axiom2=make_sympy(AX2)\n",
    "axiom3=make_sympy(AX3)"
   ]
  },
  {
   "cell_type": "code",
   "execution_count": null,
   "id": "8ad8deaa",
   "metadata": {},
   "outputs": [],
   "source": [
    "class proof_line:\n",
    "    def __init__(self,expr,step):\n",
    "        self.expr=expr\n",
    "        self.step=step\n",
    "\n",
    "def check_proof(lines):\n",
    "    \"\"\"\n",
    "    The check_proof() function takes in an array of proof lines \n",
    "    (forming a proof) and checks if the given proof is valid or not\n",
    "    \"\"\"\n",
    "    works=True\n",
    "    if len(lines)<=1: \n",
    "        # the first element of the proof always refers to the conclusion\n",
    "        # So any proof smaller than 2 must be invalid\n",
    "        print(\"Missing Proof\")\n",
    "        return\n",
    "    for i,line in enumerate(lines):\n",
    "        if i==0:\n",
    "            continue\n",
    "        step=line.step.replace(\" \",\"\")\n",
    "        # handling premise introduction:\n",
    "        if step.lower()==\"premise\":\n",
    "            continue # should check against premises needed in proof?\n",
    "        # handling axiom introductions\n",
    "        elif step.lower()==\"ax1\":\n",
    "            if line.expr != axiom1:\n",
    "                print(\"incorrect use of AX1: \",line.expr)\n",
    "                works=False\n",
    "                break\n",
    "        elif step.lower()==\"ax2\":\n",
    "            if line.expr != axiom2:\n",
    "                print(\"incorrect use of AX2: \",line.expr)\n",
    "                works=False\n",
    "                break\n",
    "        elif step.lower()==\"ax3\":\n",
    "            if line.expr != axiom3:\n",
    "                print(\"incorrect use of AX3: \",line.expr)\n",
    "                works=False\n",
    "                break\n",
    "        # handling subsitution\n",
    "        elif re.search(r\"sub[0-9]+\\[([a-z]:=[a-z¬→\\(\\),]+)+\\]\",step.lower()):\n",
    "            substr=re.search(r\"\\[([a-zA-Z]:=[a-zA-Z¬→\\(\\),]+)+\\]\",step).group(0).replace(\"[\", \"\").replace(\"]\", \"\")\n",
    "            subint=int(re.search(r\"[0-9]+\",step).group())\n",
    "            if subint>=i or subint<=0:\n",
    "                # case of invalid step index reference\n",
    "                print(f\"Incorrect subsitution reference: {line.step} in line {i}.\")\n",
    "                works=False\n",
    "                break\n",
    "            items = [item.strip() for item in substr.split(',')]\n",
    "            subby=lines[subint].expr\n",
    "            for item in items:\n",
    "                # loop to find true outcome of substitution step\n",
    "                thing=re.search(r\"([a-zA-Z]):=([a-zA-Z¬→\\(\\)]+)\",item)\n",
    "                LHS=symbols(thing.group(1))\n",
    "                RHS=make_sympy(thing.group(2))\n",
    "                subby=subby.subs(LHS,RHS)\n",
    "            if subby!=line.expr:\n",
    "                # checking expression against true outcome\n",
    "                print(f\"Incorrect subsitution:\\n{line.step} on {lines[subint].expr} does not give {line.expr}\")\n",
    "                works=False\n",
    "                print(subby)\n",
    "                print(line.expr)\n",
    "                break\n",
    "        # handling modus ponenes\n",
    "        elif re.search(r\"mp[0-9]+,[0-9]+\",step.lower()):\n",
    "            mpstr=re.search(r\"mp([0-9]+),([0-9]+)\",step.lower())\n",
    "            mpint1=int(mpstr.group(1))\n",
    "            mpint2=int(mpstr.group(2))\n",
    "            if mpint1>=i or mpint2>=i or mpint1<=0 or mpint2<=0:\n",
    "                # case of invalid step index reference\n",
    "                print(f\"Incorrect Modus ponens reference: {line.step} in line {i}.\")\n",
    "                works=False\n",
    "                break\n",
    "            mp1=lines[mpint1].expr\n",
    "            mp2=lines[mpint2].expr\n",
    "            if mp1.func!=RawImplies:\n",
    "                # case of MP being applied on a non-Implication expression\n",
    "                print(f\"Error, incorrect modus ponnes at {step}\")\n",
    "                works=False\n",
    "                break\n",
    "            if mp1.func==RawImplies:\n",
    "                LHS,RHS=mp1.args\n",
    "                if LHS==mp2 and RHS==line.expr:\n",
    "                    # cheking if MP applied correctly\n",
    "                    works = True\n",
    "                else:\n",
    "                    print(f\"Incorrect Modes Ponens use:\\n{mp1} \\nand {mp2} \\ndoes not give \\n{line.expr}\")\n",
    "                    works=False\n",
    "                    break\n",
    "        else: \n",
    "            print(\"Unidentified step: \",step.lower())\n",
    "            works=False\n",
    "            break\n",
    "    if works:\n",
    "        if lines[0].expr == lines[-1].expr:\n",
    "            print(\"VALID PROOF\")\n",
    "        else:\n",
    "            # final check to see if proof outcome matches target conclusion\n",
    "            print(\"Error end statement does not match target\")\n",
    "    else:\n",
    "        print(\"INVALID PROOF\")\n"
   ]
  },
  {
   "cell_type": "code",
   "execution_count": 3,
   "id": "aa91d5f1",
   "metadata": {},
   "outputs": [
    {
     "name": "stdout",
     "output_type": "stream",
     "text": [
      "VALID PROOF\n"
     ]
    }
   ],
   "source": [
    "test_proof=[\n",
    "proof_line(make_sympy(\"((¬p → q) → (¬p → ¬p))\"),\"to be proven\"),\n",
    "proof_line(make_sympy(\"(A → (B → C)) → ((A → B) → (A → C))\"),\"AX2\"),\n",
    "proof_line(make_sympy(\"(¬p → (B → C)) → ((¬p → B) → (¬p → C))\"),\"Sub1[A:=¬p]\"),\n",
    "proof_line(make_sympy(\"(¬p → (q → ¬p)) → ((¬p → q) → (¬p → ¬p))\"),\"Sub2[C:=¬p,B:=q]\"),\n",
    "proof_line(make_sympy(\"(A → (B → A))\"),\"ax 1\"),\n",
    "proof_line(make_sympy(\"(¬p → (q → ¬p))\"),\"Sub4[A:=¬p,B:=q]\"),\n",
    "proof_line(make_sympy(\"((¬p → q) → (¬p → ¬p))\"),\"MP3,5\")]\n",
    "\n",
    "check_proof(test_proof)"
   ]
  },
  {
   "cell_type": "code",
   "execution_count": 5,
   "id": "2975a33e",
   "metadata": {},
   "outputs": [],
   "source": [
    "user_input = \"((¬p → q) → (¬p → ¬p))\""
   ]
  },
  {
   "cell_type": "code",
   "execution_count": 1,
   "id": "f6fbaf45",
   "metadata": {},
   "outputs": [
    {
     "name": "stdout",
     "output_type": "stream",
     "text": [
      "Collecting ollama\n",
      "  Downloading ollama-0.5.3-py3-none-any.whl (13 kB)\n",
      "Requirement already satisfied: httpx>=0.27 in c:\\users\\susha\\anaconda3\\lib\\site-packages (from ollama) (0.28.1)\n",
      "Requirement already satisfied: pydantic>=2.9 in c:\\users\\susha\\anaconda3\\lib\\site-packages (from ollama) (2.11.7)\n",
      "Requirement already satisfied: idna in c:\\users\\susha\\anaconda3\\lib\\site-packages (from httpx>=0.27->ollama) (3.4)\n",
      "Requirement already satisfied: httpcore==1.* in c:\\users\\susha\\anaconda3\\lib\\site-packages (from httpx>=0.27->ollama) (1.0.9)\n",
      "Requirement already satisfied: certifi in c:\\users\\susha\\anaconda3\\lib\\site-packages (from httpx>=0.27->ollama) (2022.12.7)\n",
      "Requirement already satisfied: anyio in c:\\users\\susha\\anaconda3\\lib\\site-packages (from httpx>=0.27->ollama) (3.5.0)\n",
      "Requirement already satisfied: h11>=0.16 in c:\\users\\susha\\anaconda3\\lib\\site-packages (from httpcore==1.*->httpx>=0.27->ollama) (0.16.0)\n",
      "Requirement already satisfied: typing-extensions>=4.12.2 in c:\\users\\susha\\anaconda3\\lib\\site-packages (from pydantic>=2.9->ollama) (4.12.2)\n",
      "Requirement already satisfied: annotated-types>=0.6.0 in c:\\users\\susha\\anaconda3\\lib\\site-packages (from pydantic>=2.9->ollama) (0.7.0)\n",
      "Requirement already satisfied: pydantic-core==2.33.2 in c:\\users\\susha\\anaconda3\\lib\\site-packages (from pydantic>=2.9->ollama) (2.33.2)\n",
      "Requirement already satisfied: typing-inspection>=0.4.0 in c:\\users\\susha\\anaconda3\\lib\\site-packages (from pydantic>=2.9->ollama) (0.4.1)\n",
      "Requirement already satisfied: sniffio>=1.1 in c:\\users\\susha\\anaconda3\\lib\\site-packages (from anyio->httpx>=0.27->ollama) (1.2.0)\n",
      "Installing collected packages: ollama\n",
      "Successfully installed ollama-0.5.3\n"
     ]
    }
   ],
   "source": [
    "!pip install ollama"
   ]
  },
  {
   "cell_type": "code",
   "execution_count": 4,
   "id": "a163c3be",
   "metadata": {},
   "outputs": [],
   "source": [
    "import ollama\n",
    "\n",
    "client=ollama.Client()\n",
    "\n",
    "model=\"Prop_llama\""
   ]
  },
  {
   "cell_type": "code",
   "execution_count": null,
   "id": "51a2d676",
   "metadata": {},
   "outputs": [
    {
     "name": "stdout",
     "output_type": "stream",
     "text": [
      "1. (A → (B → C)) → ((A → B) → (A → C))...AX2\n",
      "2. (¬p → (q → ¬p)) → ((¬p → q) → (¬p → ¬p))...Sub1[A:=¬p,C:=¬p,B:=q]\n",
      "3. (A → (B → A))...AX1\n",
      "4. (¬p → (q → ¬p))...Sub3[A:=¬p,B:=q]\n",
      "5. ((¬p → q) → (¬p → ¬p))...MP2,4\n"
     ]
    }
   ],
   "source": [
    "response=client.generate(model=model,prompt=user_input)\n",
    "\n",
    "print(response.response)"
   ]
  },
  {
   "cell_type": "code",
   "execution_count": null,
   "id": "4ebf2e85",
   "metadata": {},
   "outputs": [],
   "source": [
    "def make_and_check_proof():\n",
    "    \"\"\"\n",
    "    requests an input of a desired proof from the user, \n",
    "    calls the LLM to generate said proof, \n",
    "    and then checks the proof\n",
    "    \"\"\"\n",
    "    # take input from user:\n",
    "    target_str=input(\"Paste your desired formula using →,¬ symbols. Please seperate premises from conclusion using a ⊢: \")\n",
    "    print(target_str,\" to be proven\")\n",
    "    # extracts desired conclusion from input\n",
    "    target_str=re.search(r\"⊢([\\(\\)A-Za-z→¬]+)\",target_str.replace(\" \",\"\")).group(1)\n",
    "    target=make_sympy(target_str)\n",
    "    # calls LLM to generate desired proof\n",
    "    proof=client.generate(model=model,prompt=target_str)\n",
    "    print(\"Generated response:\\n\",proof.response)\n",
    "    # processes generated proof so that it can be passed to check_proof fucntion\n",
    "    proof=(proof.response).splitlines()\n",
    "    proof_array=[]\n",
    "    proof_array.append(proof_line(target,\"to be proven\"))\n",
    "    for i,line in enumerate(proof):\n",
    "        line=line.replace(\" \",\"\")\n",
    "        # ignore line if LLM is stating a desired conclusing and not a step\n",
    "        num=re.search(r\"([0-9]+).\",line)\n",
    "        if not(num):\n",
    "            continue\n",
    "        # process line to extract expression and step\n",
    "        stuff=re.search(r\"([\\(\\)A-Za-z→¬]+)...([A-Za-z0-9,\\[\\]\\(\\):=→¬]+)\",line)\n",
    "        expr=stuff.group(1)\n",
    "        expr=make_sympy(expr)\n",
    "        step=stuff.group(2)\n",
    "        # add it to the proof_array to form final proof\n",
    "        proof_array.append(proof_line(expr,step))\n",
    "    # check proofs validity\n",
    "    check_proof(proof_array)"
   ]
  },
  {
   "cell_type": "markdown",
   "id": "b605524a",
   "metadata": {},
   "source": [
    "# Test cases\n",
    "\n",
    "1. LLM generated proof testing (5 cases)"
   ]
  },
  {
   "cell_type": "code",
   "execution_count": 17,
   "id": "93a62e7a",
   "metadata": {},
   "outputs": [
    {
     "name": "stdout",
     "output_type": "stream",
     "text": [
      "⊢((¬p → q) → (¬p → ¬p))  to be proven\n",
      "Generated response:\n",
      " 1. (A → (B → C)) → ((A → B) → (A → C))...AX2\n",
      "2. (¬p → q) → ((¬p → ¬p) → ((¬p → q) → (¬p → ¬p)))...Sub3[A:=¬p,C:=¬p,B:=q]\n",
      "3. (A → (B → A))...AX1\n",
      "4. (¬p → (¬p → ¬p))...Sub2[A:=¬p,B:=¬p]\n",
      "5. ((¬p→q)→(¬p→¬p))...MP3,4\n",
      "Incorrect subsitution reference: Sub3[A:=¬p,C:=¬p,B:=q] in line 2.\n",
      "INVALID PROOF\n"
     ]
    },
    {
     "data": {
      "text/plain": [
       "'\\nTest case 1: ⊢((¬p → q) → (¬p → ¬p))\\n'"
      ]
     },
     "execution_count": 17,
     "metadata": {},
     "output_type": "execute_result"
    }
   ],
   "source": [
    "make_and_check_proof()\n",
    "\n",
    "\"\"\"\n",
    "Test case 1: ⊢((¬p → q) → (¬p → ¬p))\n",
    "\"\"\""
   ]
  },
  {
   "cell_type": "code",
   "execution_count": 7,
   "id": "2d13d337",
   "metadata": {},
   "outputs": [
    {
     "name": "stdout",
     "output_type": "stream",
     "text": [
      "⊢(p → p)  to be proven\n",
      "Generated response:\n",
      " 1. (A → (B → A))...AX1\n",
      "2. p → (p → p)...Sub3[A:=p,B:=p]\n",
      "3. p → p...MP1,2\n",
      "Incorrect subsitution reference: Sub3[A:=p,B:=p] in line 2.\n",
      "INVALID PROOF\n"
     ]
    },
    {
     "data": {
      "text/plain": [
       "'\\nTest case 2: ⊢(p → p)\\n'"
      ]
     },
     "execution_count": 7,
     "metadata": {},
     "output_type": "execute_result"
    }
   ],
   "source": [
    "make_and_check_proof()\n",
    "\n",
    "\"\"\"\n",
    "Test case 2: ⊢(p → p)\n",
    "\"\"\""
   ]
  },
  {
   "cell_type": "code",
   "execution_count": 14,
   "id": "a0ff2c7e",
   "metadata": {},
   "outputs": [
    {
     "name": "stdout",
     "output_type": "stream",
     "text": [
      "⊢(¬p→(p→q))  to be proven\n",
      "Generated response:\n",
      " 1. (A → (B → C)) → ((A → B) → (A → C))...AX2\n",
      "2. (¬p → (p → q)) → ((¬p → p) → (¬p → q))...Sub1[A:=¬p,C:=q,B:=p]\n",
      "3. (A → (B → A))...AX1\n",
      "4. (¬p → (p → q))...Sub3[A:=¬p,B:=p]\n",
      "5. ((¬p→(p→q))→((¬p→p)→(¬p→q)))...MP2,4\n",
      "Incorrect subsitution:\n",
      "Sub3[A:=¬p,B:=p] on RawImplies(A, RawImplies(B, A)) does not give RawImplies(~p, RawImplies(p, q))\n",
      "RawImplies(~p, RawImplies(p, ~p))\n",
      "RawImplies(~p, RawImplies(p, q))\n",
      "INVALID PROOF\n"
     ]
    },
    {
     "data": {
      "text/plain": [
       "'\\nTest case 3: ⊢(¬p→(p→q))\\n'"
      ]
     },
     "execution_count": 14,
     "metadata": {},
     "output_type": "execute_result"
    }
   ],
   "source": [
    "make_and_check_proof()\n",
    "\n",
    "\"\"\"\n",
    "Test case 3: ⊢(¬p→(p→q))\n",
    "\"\"\""
   ]
  },
  {
   "cell_type": "code",
   "execution_count": 15,
   "id": "f08a6f75",
   "metadata": {},
   "outputs": [
    {
     "name": "stdout",
     "output_type": "stream",
     "text": [
      "⊢(q→(p→q))  to be proven\n",
      "Generated response:\n",
      " 1. (A → (B → C)) → ((A → B) → (A → C))...AX2\n",
      "2. ((q→(p→q))→((q→p)→(q→(p→q))))...Sub1[A:=q,C:=(p→q),B:=p]\n",
      "3. (A → (B → A))...AX1\n",
      "4. (q→(p→q))...Sub3[A:=q,B:=p]\n",
      "5. (q→(p→q))...MP2,4\n",
      "Incorrect subsitution:\n",
      "Sub1[A:=q,C:=(p→q),B:=p] on RawImplies(RawImplies(A, RawImplies(B, C)), RawImplies(RawImplies(A, B), RawImplies(A, C))) does not give RawImplies(RawImplies(q, RawImplies(p, q)), RawImplies(RawImplies(q, p), RawImplies(q, RawImplies(p, q))))\n",
      "RawImplies(RawImplies(q, RawImplies(p, RawImplies(p, q))), RawImplies(RawImplies(q, p), RawImplies(q, RawImplies(p, q))))\n",
      "RawImplies(RawImplies(q, RawImplies(p, q)), RawImplies(RawImplies(q, p), RawImplies(q, RawImplies(p, q))))\n",
      "INVALID PROOF\n"
     ]
    },
    {
     "data": {
      "text/plain": [
       "'\\nTest case 4: ⊢(q→(p→q))\\n'"
      ]
     },
     "execution_count": 15,
     "metadata": {},
     "output_type": "execute_result"
    }
   ],
   "source": [
    "make_and_check_proof()\n",
    "# dis one\n",
    "\"\"\"\n",
    "Test case 4: ⊢(q→(p→q))\n",
    "\"\"\""
   ]
  },
  {
   "cell_type": "code",
   "execution_count": 13,
   "id": "afe1f777",
   "metadata": {},
   "outputs": [
    {
     "name": "stdout",
     "output_type": "stream",
     "text": [
      " p→q,q→r,p ⊢r  to be proven\n",
      "Generated response:\n",
      " ⊢¬x → (y → z)\n",
      "1. A → (B → C) → ((A → B) → (A → C))...AX2\n",
      "2. ¬(x ∧ (y → z)) → ¬(x ∧ ¬(y → z))...Sub3[A:=¬x,C:=¬(y → z),B:¬(x ∧ ¬(y → z))]\n",
      "Error: lone floating operator ¬\n",
      "incorrect use of AX2:  RawImplies(A, RawImplies(RawImplies(B, C), RawImplies(RawImplies(A, B), RawImplies(A, C))))\n",
      "INVALID PROOF\n"
     ]
    },
    {
     "data": {
      "text/plain": [
       "'\\nTest case 5: p→q,q→r,p ⊢r\\n'"
      ]
     },
     "execution_count": 13,
     "metadata": {},
     "output_type": "execute_result"
    }
   ],
   "source": [
    "make_and_check_proof()\n",
    "\n",
    "\"\"\"\n",
    "Test case 5: p→q,q→r,p ⊢r\n",
    "\"\"\""
   ]
  },
  {
   "cell_type": "markdown",
   "id": "07fca4b6",
   "metadata": {},
   "source": [
    "2. Constructed test cases"
   ]
  },
  {
   "cell_type": "code",
   "execution_count": 8,
   "id": "fe652516",
   "metadata": {},
   "outputs": [
    {
     "name": "stdout",
     "output_type": "stream",
     "text": [
      "Incorrect Modes Ponens use:\n",
      "RawImplies(RawImplies(~p, RawImplies(q, ~p)), RawImplies(RawImplies(~p, q), RawImplies(~p, ~p))) \n",
      "and RawImplies(~p, RawImplies(p, ~p)) \n",
      "does not give \n",
      "RawImplies(q, RawImplies(p, q))\n",
      "INVALID PROOF\n"
     ]
    }
   ],
   "source": [
    "test_proof=[\n",
    "proof_line(make_sympy(\"(q→(p→q))\"),\"\"),\n",
    "proof_line(make_sympy(\"(A → (B → C)) → ((A → B) → (A → C))\"),\"AX2\"),\n",
    "proof_line(make_sympy(\"(¬p → (q → ¬p)) → ((¬p → q) → (¬p → ¬p))\"),\"Sub1[A:=¬p,C:=¬p,B:=q]\"),\n",
    "proof_line(make_sympy(\"(A → (B → A))\"),\"AX1\"),\n",
    "proof_line(make_sympy(\"(¬p → (q → ¬p))\"),\"Sub3[A:=¬p,B:=q]\"),\n",
    "proof_line(make_sympy(\"((¬p → q) → (¬p → ¬p))\"),\"MP2,4\"),\n",
    "proof_line(make_sympy(\"(¬p → (p → ¬p)) → ((¬p → p) → (¬p → ¬p))\"),\"Sub1[A:=¬p,C:=¬p,B:=p]\"),\n",
    "proof_line(make_sympy(\"(A → (B → A))\"),\"AX1\"),\n",
    "proof_line(make_sympy(\"(¬p → (p → ¬p))\"),\"Sub3[A:=¬p,B:=p]\"),\n",
    "proof_line(make_sympy(\"(q→(p→q))\"),\"MP2,8\")]\n",
    "\n",
    "check_proof(test_proof)\n"
   ]
  },
  {
   "cell_type": "code",
   "execution_count": 12,
   "id": "509c2330",
   "metadata": {},
   "outputs": [
    {
     "name": "stdout",
     "output_type": "stream",
     "text": [
      "test proof for p→q,q→r,p ⊢r\n",
      "VALID PROOF\n"
     ]
    }
   ],
   "source": [
    "print(\"test proof for p→q,q→r,p ⊢r\")\n",
    "\n",
    "test_proof=[\n",
    "proof_line(make_sympy(\"r\"),\"to be proven\"),\n",
    "proof_line(make_sympy(\"p→q\"),\"premise\"),\n",
    "proof_line(make_sympy(\"q→r\"),\"premise\"),\n",
    "proof_line(make_sympy(\"p\"),\"premise\"),\n",
    "proof_line(make_sympy(\"q\"),\"MP1,3\"),\n",
    "proof_line(make_sympy(\"r\"),\"MP2,4\")\n",
    "]\n",
    "\n",
    "check_proof(test_proof)"
   ]
  },
  {
   "cell_type": "code",
   "execution_count": 44,
   "id": "cf7c9b64",
   "metadata": {},
   "outputs": [
    {
     "name": "stdout",
     "output_type": "stream",
     "text": [
      "test proof for p→q,q→r,p ⊢r\n",
      "Error end statement does not match target\n"
     ]
    }
   ],
   "source": [
    "print(\"test proof for p→q,q→r,p ⊢r\")\n",
    "\n",
    "test_proof=[\n",
    "proof_line(make_sympy(\"r\"),\"to be proven\"),\n",
    "proof_line(make_sympy(\"(A → (B → C)) → ((A → B) → (A → C))\"),\"AX2\"),\n",
    "proof_line(make_sympy(\"(¬p → (B → C)) → ((¬p → B) → (¬p → C))\"),\"Sub1[A:=¬p]\"),\n",
    "proof_line(make_sympy(\"(¬p → (q → ¬p)) → ((¬p → q) → (¬p → ¬p))\"),\"Sub2[C:=¬p,B:=q]\"),\n",
    "proof_line(make_sympy(\"(A → (B → A))\"),\"ax 1\"),\n",
    "proof_line(make_sympy(\"(¬p → (q → ¬p))\"),\"Sub4[A:=¬p,B:=q]\"),\n",
    "proof_line(make_sympy(\"((¬p → q) → (¬p → ¬p))\"),\"MP3,5\")]\n",
    "\n",
    "\n",
    "check_proof(test_proof)"
   ]
  }
 ],
 "metadata": {
  "kernelspec": {
   "display_name": "base",
   "language": "python",
   "name": "python3"
  },
  "language_info": {
   "codemirror_mode": {
    "name": "ipython",
    "version": 3
   },
   "file_extension": ".py",
   "mimetype": "text/x-python",
   "name": "python",
   "nbconvert_exporter": "python",
   "pygments_lexer": "ipython3",
   "version": "3.10.9"
  }
 },
 "nbformat": 4,
 "nbformat_minor": 5
}
